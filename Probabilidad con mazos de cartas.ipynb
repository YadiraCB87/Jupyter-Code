{
 "cells": [
  {
   "cell_type": "code",
   "execution_count": 1,
   "id": "6195c1a7",
   "metadata": {},
   "outputs": [
    {
     "name": "stdout",
     "output_type": "stream",
     "text": [
      "0.08\n"
     ]
    }
   ],
   "source": [
    "## Calculo probabildiad de obtener un as de cualquier simbolo\n",
    "\n",
    "## Definir el espacio muestral\n",
    "\n",
    "cards =52\n",
    "\n",
    "## canridad objetivo\n",
    "\n",
    "aces = 4\n",
    "\n",
    "## se divide la cantidad objetivo entre el espacio muestral \n",
    "\n",
    "ace_probabildiad = aces / cards\n",
    "\n",
    "# Imprimir la probabildiad de obtener un as de cualquier simbolo\n",
    "\n",
    "print(round(ace_probabildiad , 2))"
   ]
  },
  {
   "cell_type": "code",
   "execution_count": 2,
   "id": "71816f65",
   "metadata": {},
   "outputs": [
    {
     "name": "stdout",
     "output_type": "stream",
     "text": [
      "25.0%\n",
      "23.1%\n",
      "1.9%\n"
     ]
    }
   ],
   "source": [
    "## Se crea una funcion para retornas la probabilidad en porcentaje redondeado a un decimal\n",
    "\n",
    "def event_probability(event_outcomes, sample_space):\n",
    "    probabilty = (event_outcomes /  sample_space) * 100\n",
    "    return round(probabilty, 1)\n",
    "\n",
    "## Determine la probabilidad de obtener un corazon\n",
    "hearts = 13\n",
    "heart_probability = event_probability(hearts,cards)\n",
    "\n",
    "#Determine la probabilidad de obtener una carta con cara \n",
    "face_cards = 12\n",
    "face_card_probability = event_probability(face_cards,cards)\n",
    "\n",
    "## Dtermine la probabilidad de obtener la reina de corazones\n",
    "\n",
    "queen_of_hearts =1\n",
    "queen_of_hearts_probability = event_probability(queen_of_hearts,cards)\n",
    "\n",
    "## Se imrpimen las probabildiades\n",
    "\n",
    "print(str(heart_probability) +'%')\n",
    "print(str(face_card_probability)+'%')\n",
    "print(str(queen_of_hearts_probability)+'%')"
   ]
  },
  {
   "cell_type": "markdown",
   "id": "6e375d4b",
   "metadata": {},
   "source": [
    "## Ejemplo con permutaciones: Obtenga las permutaciones de los cuatro aces si desea sacar dos (Order importa)\n"
   ]
  },
  {
   "cell_type": "code",
   "execution_count": 3,
   "id": "984d598a",
   "metadata": {},
   "outputs": [
    {
     "name": "stdout",
     "output_type": "stream",
     "text": [
      "12.0\n"
     ]
    }
   ],
   "source": [
    "import math\n",
    "\n",
    "n = 4\n",
    "k = 2\n",
    "\n",
    "## Determinar las permutaciones y se imprimen los resultados\n",
    "\n",
    "Permutacions = math.factorial (n) / math.factorial(k)\n",
    "print(Permutacions)\n",
    "\n",
    "## R/Existen 12 opciones diferentes para que la persona obtenga dos aces consecutivos"
   ]
  },
  {
   "cell_type": "markdown",
   "id": "384d2577",
   "metadata": {},
   "source": [
    "## Ejemplo con combinatorias : Obtenga las combinaciones de todas las combinaciones de dos cartas (order no importa)"
   ]
  },
  {
   "cell_type": "code",
   "execution_count": 5,
   "id": "1f3ea113",
   "metadata": {},
   "outputs": [
    {
     "name": "stdout",
     "output_type": "stream",
     "text": [
      "1326.0\n"
     ]
    }
   ],
   "source": [
    "# Combinations Code\n",
    "\n",
    "n =52\n",
    "k=2\n",
    "\n",
    "# Determinar Permutations\n",
    "\n",
    "Permutations = math.factorial(n) / math.factorial(n-k)\n",
    "\n",
    "# Determine combinations and print result\n",
    "\n",
    "Combinations = Permutations / math.factorial(k)\n",
    "print(Combinations)\n",
    "\n",
    "#R/Existen 1326 opciones diferentes para que la persona obtenga dos aces consecutivos"
   ]
  },
  {
   "cell_type": "markdown",
   "id": "30df1290",
   "metadata": {},
   "source": [
    "## Ejemplos eventos dependientes e indipendientes"
   ]
  },
  {
   "cell_type": "code",
   "execution_count": 7,
   "id": "f5f53560",
   "metadata": {},
   "outputs": [
    {
     "name": "stdout",
     "output_type": "stream",
     "text": [
      "7.8\n",
      "5.9\n"
     ]
    }
   ],
   "source": [
    "## Espacio Muestral\n",
    "\n",
    "cards =52\n",
    "cards_drawn = 1\n",
    "cards = cards - cards_drawn\n",
    "\n",
    "## Se determina la probabilidad de robar un AS despues de haber robado un Rey la primera vez\n",
    "\n",
    "aces = 4\n",
    "ace_probability1 = event_probability(aces, cards)\n",
    "\n",
    "## Se determina la probabilidad de robar un AS despues de haver un AS\n",
    "\n",
    "aces_drawn =1\n",
    "aces =aces -aces_drawn\n",
    "ace_probability2 = event_probability( aces, cards)\n",
    "\n",
    "\n",
    "# Se imprimen las probabilidades para comparar\n",
    "\n",
    "print(ace_probability1)\n",
    "print(ace_probability2)"
   ]
  },
  {
   "cell_type": "code",
   "execution_count": 9,
   "id": "538272e8",
   "metadata": {},
   "outputs": [
    {
     "name": "stdout",
     "output_type": "stream",
     "text": [
      "1.9635\n",
      "1.925\n"
     ]
    }
   ],
   "source": [
    "## Ejemplo dependencias\n",
    "\n",
    "## Determine la probablididad de que al robar dos cartas la primera sea un AS y la segunda sea de espadas (sin reemplazo)\n",
    "spade_probability1 =(event_probability(4,52)/100) * (event_probability(13,51) / 100) * 100\n",
    "\n",
    "## Determine la probabildiad de que al robar dos cartas la primera sea un AS y la segunda sea de espadas (con reemplazo) reemplazo la devolucion de la carta\n",
    "spade_probability2 =(event_probability(4,52)/100) * (event_probability(13,52) / 100) * 100\n",
    "\n",
    "## Se imprimen las probabilidades para comparar\n",
    "\n",
    "print(spade_probability1)\n",
    "print(spade_probability2)"
   ]
  },
  {
   "cell_type": "markdown",
   "id": "240196e0",
   "metadata": {},
   "source": [
    "## Eventos mutuamente excluyentes y no mutuamentes excluyentes"
   ]
  },
  {
   "cell_type": "code",
   "execution_count": 10,
   "id": "970bdba9",
   "metadata": {},
   "outputs": [
    {
     "name": "stdout",
     "output_type": "stream",
     "text": [
      "50.0\n",
      "23.1\n"
     ]
    }
   ],
   "source": [
    "## Ejemplo mutuamente excluyentes. Las probabilidades no estan asociadas\n",
    "\n",
    "## Espacio muestral\n",
    "cards = 52\n",
    "\n",
    "## Se calcula la probabilidad de robar un corazon o un trebol\n",
    "\n",
    "hearts = 13\n",
    "clubs = 13\n",
    "heart_or_club = event_probability(hearts,cards) + event_probability(clubs,cards)\n",
    "\n",
    "## Calculo probabilidad de robar un AS, un Rey o una Reina\n",
    "\n",
    "aces =4\n",
    "kings = 4\n",
    "queens = 4\n",
    "ace_king_or_queen = event_probability(aces,cards) + event_probability(kings,cards) + event_probability(queens,cards)\n",
    "\n",
    "\n",
    "## Se imprimen las probabilidades\n",
    "print(heart_or_club)\n",
    "print(ace_king_or_queen)"
   ]
  },
  {
   "cell_type": "code",
   "execution_count": 13,
   "id": "43599eeb",
   "metadata": {},
   "outputs": [
    {
     "name": "stdout",
     "output_type": "stream",
     "text": [
      "30.800000000000004 1\n",
      "61.599999999999994 1\n"
     ]
    }
   ],
   "source": [
    "## Ejemplp eventos no mutuamente excluyentes\n",
    "\n",
    "## Espacio muestral\n",
    "cards = 52\n",
    "\n",
    "## Determine la probabilidad de robar un AS o un Corazon ( considere que una carta puede ser ambas) ## Al haber ambas no es mutuamente excluyente\n",
    "\n",
    "hearts= 13\n",
    "aces = 4\n",
    "ace_of_hearts= 1\n",
    "heart_or_ace = event_probability(hearts, cards) + event_probability (aces, cards) - event_probability(ace_of_hearts, cards)\n",
    "\n",
    "## Determine la probabilidad de robar una carta roja o con cara\n",
    "\n",
    "red_cards = 26\n",
    "face_cards =12\n",
    "red_face_cards =6\n",
    "red_or_face_cards = event_probability(red_cards, cards)+event_probability(face_cards, cards) - event_probability(red_face_cards, cards)\n",
    "\n",
    "## Se imprimen las probabilidades\n",
    "print(heart_or_ace, 1)\n",
    "print(red_or_face_cards, 1)\n"
   ]
  },
  {
   "cell_type": "code",
   "execution_count": null,
   "id": "1bb7b179",
   "metadata": {},
   "outputs": [],
   "source": []
  }
 ],
 "metadata": {
  "kernelspec": {
   "display_name": "Python 3 (ipykernel)",
   "language": "python",
   "name": "python3"
  },
  "language_info": {
   "codemirror_mode": {
    "name": "ipython",
    "version": 3
   },
   "file_extension": ".py",
   "mimetype": "text/x-python",
   "name": "python",
   "nbconvert_exporter": "python",
   "pygments_lexer": "ipython3",
   "version": "3.9.7"
  }
 },
 "nbformat": 4,
 "nbformat_minor": 5
}
